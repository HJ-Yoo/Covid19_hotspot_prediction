{
 "cells": [
  {
   "cell_type": "code",
   "execution_count": 2,
   "metadata": {},
   "outputs": [],
   "source": [
    "import pandas as pd\n",
    "import numpy as np\n",
    "import copy\n",
    "import matplotlib.pyplot as plt\n",
    "import itertools\n",
    "from tqdm import tqdm\n",
    "from sklearn.metrics import mean_squared_error as mse\n",
    "from sklearn.metrics import mean_absolute_error as mae\n",
    "from datetime import timedelta\n",
    "import pmdarima as pm\n",
    "from pmdarima.arima import auto_arima"
   ]
  },
  {
   "cell_type": "markdown",
   "metadata": {},
   "source": [
    "### 데이터 전처리 "
   ]
  },
  {
   "cell_type": "code",
   "execution_count": 3,
   "metadata": {},
   "outputs": [],
   "source": [
    "edge_daegu_infect = np.load('./data/raw_data/edge_daegu_infect.npy', allow_pickle=True)\n",
    "edge_daegu_user_1st = np.load('./data/raw_data/edge_daegu_user_1st.npy', allow_pickle=True)\n",
    "edge_daegu_user_2nd = np.load('./data/raw_data/edge_daegu_user_2nd.npy', allow_pickle=True)\n",
    "edge_daegu_user_3rd = np.load('./data/raw_data/edge_daegu_user_3rd.npy', allow_pickle=True)\n",
    "edge_daegu_user_4th = np.load('./data/raw_data/edge_daegu_user_4th.npy', allow_pickle=True)\n",
    "edge_daegu_user_5th = np.load('./data/raw_data/edge_daegu_user_5th.npy', allow_pickle=True)\n",
    "node_daegu_infect = np.load('./data/raw_data/node_daegu_infect.npy', allow_pickle=True)\n",
    "node_daegu_user = np.load('./data/raw_data/node_daegu_user.npy', allow_pickle=True)\n",
    "edge_daegu_user = np.concatenate((edge_daegu_user_1st,edge_daegu_user_2nd,edge_daegu_user_3rd,edge_daegu_user_4th,edge_daegu_user_5th))\n",
    "del (edge_daegu_user_1st, edge_daegu_user_2nd, edge_daegu_user_3rd, edge_daegu_user_4th, edge_daegu_user_5th)"
   ]
  },
  {
   "cell_type": "code",
   "execution_count": 4,
   "metadata": {},
   "outputs": [],
   "source": [
    "node_user = (node_daegu_user.reshape([-1, 142])-np.min(node_daegu_user))/(np.max(node_daegu_user)-np.min(node_daegu_user))\n",
    "node_infect = (node_daegu_infect.reshape([-1, 142])-np.min(node_daegu_infect))/(np.max(node_daegu_infect)-np.min(node_daegu_infect))\n",
    "edge_user = np.array([edge_daegu_user[:,0]+edge_daegu_user[:,1], edge_daegu_user[:,2], edge_daegu_user[:,3],\n",
    "                      (edge_daegu_user[:,4]-np.min(edge_daegu_user[:,4]))/(np.max(edge_daegu_user[:,4])-np.min(edge_daegu_user[:,4]))]).transpose()\n",
    "edge_infect = np.array([edge_daegu_infect[:,0]+edge_daegu_infect[:,1], edge_daegu_infect[:,2], edge_daegu_infect[:,3],\n",
    "                        (edge_daegu_infect[:,4]-np.min(edge_daegu_infect[:,4]))/(np.max(edge_daegu_infect[:,4])-np.min(edge_daegu_infect[:,4]))]).transpose()\n",
    "\n",
    "ymd_time_lst = np.sort(np.unique(edge_user[:,0]))\n",
    "dong_lst = np.sort(np.unique(edge_user[:,1])) "
   ]
  },
  {
   "cell_type": "code",
   "execution_count": 5,
   "metadata": {},
   "outputs": [],
   "source": [
    "dong_sty_lst = np.array([dong for i in range(696) for dong in dong_lst])\n",
    "ymd_time_sty_lst = np.array([ymd_time for ymd_time in ymd_time_lst for i in range(142)])\n",
    "sty_infect_ts = pd.DataFrame(np.concatenate((ymd_time_sty_lst.reshape(98832,1), dong_sty_lst.reshape(98832,1)), axis=1))\n",
    "sty_infect_ts['sty_num'] = node_infect.reshape(98832)\n",
    "sty_infect_ts.columns = ['ymd_time', 'dong','sty_num']"
   ]
  },
  {
   "cell_type": "markdown",
   "metadata": {},
   "source": [
    "### mv"
   ]
  },
  {
   "cell_type": "code",
   "execution_count": 6,
   "metadata": {},
   "outputs": [
    {
     "name": "stderr",
     "output_type": "stream",
     "text": [
      "0it [00:00, ?it/s]/home/hyungjun/anaconda3/lib/python3.7/site-packages/ipykernel_launcher.py:9: FutureWarning: `item` has been deprecated and will be removed in a future version\n",
      "  if __name__ == '__main__':\n",
      "696it [31:18,  2.70s/it]\n"
     ]
    }
   ],
   "source": [
    "raw_mv_infect = pd.DataFrame(edge_infect, columns=['ymd_time', 'from_dong', 'to_dong', 'mv_num'])\n",
    "mv_infect = raw_mv_infect.loc[1:]\n",
    "to_dong_grouped = mv_infect.groupby(['ymd_time', 'to_dong']).sum()['mv_num']\n",
    "to_dong_grouped = to_dong_grouped.reset_index()\n",
    "to_dong_mv = np.zeros([696, 142])\n",
    "for i, ymd_time in tqdm(enumerate(ymd_time_lst)):\n",
    "    for j, dong in enumerate(dong_lst):\n",
    "        if not to_dong_grouped[(to_dong_grouped['ymd_time']==ymd_time) & (to_dong_grouped['to_dong']==dong)].empty:\n",
    "            to_dong_mv[i][j] = to_dong_grouped[(to_dong_grouped['ymd_time']==ymd_time) & (to_dong_grouped['to_dong']==dong)]['mv_num'].item()"
   ]
  },
  {
   "cell_type": "code",
   "execution_count": 7,
   "metadata": {},
   "outputs": [],
   "source": [
    "dong_sty_lst = np.array([dong for i in range(696) for dong in dong_lst])\n",
    "ymd_time_sty_lst = np.array([ymd_time for ymd_time in ymd_time_lst for i in range(142)])\n",
    "mv_infect_ts = pd.DataFrame(np.concatenate((ymd_time_sty_lst.reshape(98832,1), dong_sty_lst.reshape(98832,1)), axis=1))\n",
    "mv_infect_ts['mv_num'] = to_dong_mv.reshape(98832)\n",
    "mv_infect_ts.columns = ['ymd_time', 'dong','mv_num']"
   ]
  },
  {
   "cell_type": "code",
   "execution_count": 8,
   "metadata": {},
   "outputs": [],
   "source": [
    "sty_infect_ts_lst = []\n",
    "for i in range(len(dong_lst)):\n",
    "    sty_infect_ts_lst.append(sty_infect_ts[sty_infect_ts['dong']==dong_lst[i]])"
   ]
  },
  {
   "cell_type": "code",
   "execution_count": 9,
   "metadata": {},
   "outputs": [],
   "source": [
    "mv_infect_ts_lst = []\n",
    "for i in range(len(dong_lst)):\n",
    "    mv_infect_ts_lst.append(mv_infect_ts[mv_infect_ts['dong']==dong_lst[i]])"
   ]
  },
  {
   "cell_type": "markdown",
   "metadata": {},
   "source": [
    "# ARIMA"
   ]
  },
  {
   "cell_type": "markdown",
   "metadata": {},
   "source": [
    "### 필요 함수"
   ]
  },
  {
   "cell_type": "code",
   "execution_count": 10,
   "metadata": {},
   "outputs": [],
   "source": [
    "def forecast_fnc(model, n_period):\n",
    "    fc, conf_int = model.predict(n_periods=n_period, return_conf_int=True)\n",
    "    return fc.tolist(), np.asarray(conf_int).tolist()\n",
    "\n",
    "def accuracy(forecast, true):\n",
    "    return mse(forecast, true), mae(forecast, true)"
   ]
  },
  {
   "cell_type": "code",
   "execution_count": null,
   "metadata": {},
   "outputs": [],
   "source": [
    "TEST_DAYS=7\n",
    "forecasts = np.zeros([142, 24*TEST_DAYS])\n",
    "dong_target = np.zeros([142, 24*TEST_DAYS])\n",
    "\n",
    "for i, (sty_infect_ts_dong, mv_infect_ts_dong) in tqdm(enumerate(zip(sty_infect_ts_lst, mv_infect_ts_lst))):\n",
    "    print('='*20, i, '='*20)\n",
    "    sty_dong_train = sty_infect_ts_dong[\"sty_num\"][0:(696-24*TEST_DAYS)]\n",
    "    sty_dong_test = sty_infect_ts_dong[\"sty_num\"][(696-24*TEST_DAYS):]\n",
    "\n",
    "    mv_dong_train = mv_infect_ts_dong[\"mv_num\"][0:(696-24*TEST_DAYS)]\n",
    "    mv_dong_test = mv_infect_ts_dong[\"mv_num\"][(696-24*TEST_DAYS):]\n",
    "\n",
    "    dong_train = sty_dong_train + mv_dong_train\n",
    "    dong_test = sty_dong_test + mv_dong_test\n",
    "    dong_target[i] = dong_test\n",
    "    \n",
    "    model = pm.auto_arima(dong_train, start_p=0, start_q=0,\n",
    "                          max_p=3, max_q=3, m=1,\n",
    "                          start_P=0, seasonal=False,\n",
    "                          d=1, D=0, trace=True,\n",
    "                          error_action='ignore',  # don't want to know if an order does not work\n",
    "                          suppress_warnings=True,  # don't want convergence warnings\n",
    "                          stepwise=True)  # set to stepwise\n",
    "    train_predict = model.predict_in_sample(dong_train)\n",
    "    forecast_dong, _ = forecast_fnc(model, 24*TEST_DAYS)\n",
    "    forecasts[i] = np.array(forecast_dong)\n",
    "    "
   ]
  },
  {
   "cell_type": "code",
   "execution_count": null,
   "metadata": {},
   "outputs": [],
   "source": [
    "accuracys = []\n",
    "for i in range(24*TEST_DAYS):\n",
    "    accuracy.append(accuracy(forecasts[:, i], dong_target[:, i]))\n"
   ]
  },
  {
   "cell_type": "code",
   "execution_count": 26,
   "metadata": {},
   "outputs": [
    {
     "data": {
      "text/plain": [
       "0.41075441701144055"
      ]
     },
     "execution_count": 26,
     "metadata": {},
     "output_type": "execute_result"
    }
   ],
   "source": [
    "np.mean(mse_lst)"
   ]
  },
  {
   "cell_type": "code",
   "execution_count": 27,
   "metadata": {},
   "outputs": [
    {
     "data": {
      "text/plain": [
       "0.29543139578478783"
      ]
     },
     "execution_count": 27,
     "metadata": {},
     "output_type": "execute_result"
    }
   ],
   "source": [
    "np.mean(mae_lst)"
   ]
  },
  {
   "cell_type": "markdown",
   "metadata": {},
   "source": [
    "# simple DNN"
   ]
  },
  {
   "cell_type": "code",
   "execution_count": null,
   "metadata": {},
   "outputs": [],
   "source": []
  }
 ],
 "metadata": {
  "kernelspec": {
   "display_name": "Python 3",
   "language": "python",
   "name": "python3"
  },
  "language_info": {
   "codemirror_mode": {
    "name": "ipython",
    "version": 3
   },
   "file_extension": ".py",
   "mimetype": "text/x-python",
   "name": "python",
   "nbconvert_exporter": "python",
   "pygments_lexer": "ipython3",
   "version": "3.7.3"
  }
 },
 "nbformat": 4,
 "nbformat_minor": 4
}
